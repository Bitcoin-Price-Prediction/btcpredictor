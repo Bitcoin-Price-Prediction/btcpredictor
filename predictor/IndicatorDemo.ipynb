{
 "cells": [
  {
   "cell_type": "code",
   "execution_count": null,
   "metadata": {},
   "outputs": [],
   "source": [
    "import models.indicator as indicator"
   ]
  },
  {
   "cell_type": "markdown",
   "metadata": {},
   "source": [
    "# Docs"
   ]
  },
  {
   "cell_type": "code",
   "execution_count": null,
   "metadata": {},
   "outputs": [],
   "source": [
    "indicator.IndicatorOracle?"
   ]
  },
  {
   "cell_type": "code",
   "execution_count": null,
   "metadata": {},
   "outputs": [],
   "source": [
    "indicator.IndicatorOracle.accuracy?"
   ]
  },
  {
   "cell_type": "code",
   "execution_count": null,
   "metadata": {},
   "outputs": [],
   "source": [
    "indicator.IndicatorOracle.accuracy_since_deployment?"
   ]
  },
  {
   "cell_type": "code",
   "execution_count": null,
   "metadata": {},
   "outputs": [],
   "source": [
    "indicator.IndicatorOracle.smape?"
   ]
  },
  {
   "cell_type": "code",
   "execution_count": null,
   "metadata": {},
   "outputs": [],
   "source": [
    "indicator.IndicatorOracle.smape_since_deployment?"
   ]
  },
  {
   "cell_type": "code",
   "execution_count": null,
   "metadata": {},
   "outputs": [],
   "source": [
    "indicator.IndicatorOracle.noise?"
   ]
  },
  {
   "cell_type": "code",
   "execution_count": null,
   "metadata": {},
   "outputs": [],
   "source": [
    "indicator.IndicatorOracle.noise_since_deployment?"
   ]
  },
  {
   "cell_type": "code",
   "execution_count": null,
   "metadata": {},
   "outputs": [],
   "source": [
    "indicator.IndicatorOracle.features?"
   ]
  },
  {
   "cell_type": "code",
   "execution_count": null,
   "metadata": {},
   "outputs": [],
   "source": [
    "indicator.IndicatorOracle.predict?"
   ]
  },
  {
   "cell_type": "code",
   "execution_count": null,
   "metadata": {},
   "outputs": [],
   "source": [
    "indicator.IndicatorOracle.predict_pct?"
   ]
  },
  {
   "cell_type": "code",
   "execution_count": null,
   "metadata": {},
   "outputs": [],
   "source": [
    "indicator.IndicatorOracle.predictions_so_far?"
   ]
  },
  {
   "cell_type": "code",
   "execution_count": null,
   "metadata": {},
   "outputs": [],
   "source": [
    "indicator.IndicatorOracle.history?"
   ]
  },
  {
   "cell_type": "code",
   "execution_count": null,
   "metadata": {},
   "outputs": [],
   "source": [
    "indicator.IndicatorOracle.has_model?"
   ]
  },
  {
   "cell_type": "code",
   "execution_count": null,
   "metadata": {},
   "outputs": [],
   "source": [
    "indicator.IndicatorOracle.run?"
   ]
  },
  {
   "cell_type": "code",
   "execution_count": null,
   "metadata": {},
   "outputs": [],
   "source": [
    "indicator.IndicatorOracle.stop?"
   ]
  },
  {
   "cell_type": "markdown",
   "metadata": {},
   "source": [
    "# Example Usage"
   ]
  },
  {
   "cell_type": "code",
   "execution_count": null,
   "metadata": {
    "scrolled": false
   },
   "outputs": [],
   "source": [
    "import plotly.graph_objects as go\n",
    "predictor = indicator.IndicatorOracle(days_for_training=3)\n",
    "fig = go.FigureWidget(layout=go.Layout(\n",
    "        title=go.layout.Title(text=\"Live BTC Trading Prices\")\n",
    "))\n",
    "fig.add_scatter(name='actual')\n",
    "fig.add_scatter(name='prediction')\n",
    "predictor.run(verbose=True, fig=fig)\n",
    "fig"
   ]
  },
  {
   "cell_type": "code",
   "execution_count": null,
   "metadata": {},
   "outputs": [],
   "source": [
    "# This returns the feature matrix being used at the current minute\n",
    "predictor.features()"
   ]
  },
  {
   "cell_type": "code",
   "execution_count": null,
   "metadata": {},
   "outputs": [],
   "source": [
    "# This returns True if a model has been found\n",
    "predictor.has_model()"
   ]
  },
  {
   "cell_type": "code",
   "execution_count": null,
   "metadata": {},
   "outputs": [],
   "source": [
    "# This returns the model's price forecast for the next minute\n",
    "# If no model exists, this returns None\n",
    "predictor.predict()"
   ]
  },
  {
   "cell_type": "code",
   "execution_count": null,
   "metadata": {},
   "outputs": [],
   "source": [
    "# This returns the model's price percent change forecast for the next minute\n",
    "# If no model exists, this returns None\n",
    "print(\"Predicted percent change:\", predictor.predict_pct(), \"%\")"
   ]
  },
  {
   "cell_type": "code",
   "execution_count": null,
   "metadata": {},
   "outputs": [],
   "source": [
    "# This returns a dataframe of the model's predictions over the past `days_for_training` days\n",
    "# If no model exists, this returns None\n",
    "data = predictor.history()\n",
    "data"
   ]
  },
  {
   "cell_type": "code",
   "execution_count": null,
   "metadata": {},
   "outputs": [],
   "source": [
    "# This will plot predictions and actual prices on the same graph\n",
    "import plotly.express as px\n",
    "plot = px.line(data, x=\"time\", y=['actual', 'prediction'])\n",
    "plot.show()"
   ]
  },
  {
   "cell_type": "code",
   "execution_count": null,
   "metadata": {},
   "outputs": [],
   "source": [
    "# This will compute metrics over the past `days_for_training` days\n",
    "print(\"Accuracy:\\t\\t\\t\", predictor.accuracy(step=15))\n",
    "print(\"SMAPE:\\t\\t\\t\\t\" , predictor.smape(), \"%\")\n",
    "print(\"Noise:\\t\\t\\t\\t\" , predictor.noise())"
   ]
  },
  {
   "cell_type": "code",
   "execution_count": null,
   "metadata": {},
   "outputs": [],
   "source": [
    "# This will compute metrics for the past 2 hours (120 minutes) over the past `days_for_training` days\n",
    "print(\"Accuracy:\\t\\t\\t\", predictor.accuracy(step=15, offset=120))\n",
    "print(\"SMAPE:\\t\\t\\t\\t\" , predictor.smape(offset=120), \"%\")\n",
    "print(\"Noise:\\t\\t\\t\\t\" , predictor.noise(offset=120))"
   ]
  },
  {
   "cell_type": "code",
   "execution_count": null,
   "metadata": {},
   "outputs": [],
   "source": [
    "# Run this once a few predictions have been made!\n",
    "predictor.predictions_so_far()"
   ]
  },
  {
   "cell_type": "code",
   "execution_count": null,
   "metadata": {},
   "outputs": [],
   "source": [
    "# This will compute metrics using all predictions made so far\n",
    "# NOTE: metrics will be unreliable if there haven't been many predictions\n",
    "print(\"Accuracy:\\t\\t\\t\", predictor.accuracy_since_deployment(step=5))\n",
    "print(\"SMAPE:\\t\\t\\t\\t\" , predictor.smape_since_deployment(), \"%\")\n",
    "print(\"Noise:\\t\\t\\t\\t\" , predictor.noise_since_deployment())"
   ]
  },
  {
   "cell_type": "code",
   "execution_count": null,
   "metadata": {},
   "outputs": [],
   "source": [
    "# This will compute metrics for the past 30 minutes using the predictions made so far\n",
    "# NOTE: metrics will be unreliable if there haven't been many predictions\n",
    "print(\"Accuracy:\\t\\t\\t\", predictor.accuracy_since_deployment(step=5, offset=30))\n",
    "print(\"SMAPE:\\t\\t\\t\\t\" , predictor.smape_since_deployment(offset=30), \"%\")\n",
    "print(\"Noise:\\t\\t\\t\\t\" , predictor.noise_since_deployment(offset=30))"
   ]
  },
  {
   "cell_type": "code",
   "execution_count": null,
   "metadata": {},
   "outputs": [],
   "source": [
    "predictor.stop(wait=False)"
   ]
  },
  {
   "cell_type": "code",
   "execution_count": null,
   "metadata": {},
   "outputs": [],
   "source": []
  }
 ],
 "metadata": {
  "kernelspec": {
   "display_name": "Python 3",
   "language": "python",
   "name": "python3"
  },
  "language_info": {
   "codemirror_mode": {
    "name": "ipython",
    "version": 3
   },
   "file_extension": ".py",
   "mimetype": "text/x-python",
   "name": "python",
   "nbconvert_exporter": "python",
   "pygments_lexer": "ipython3",
   "version": "3.7.6"
  }
 },
 "nbformat": 4,
 "nbformat_minor": 4
}
