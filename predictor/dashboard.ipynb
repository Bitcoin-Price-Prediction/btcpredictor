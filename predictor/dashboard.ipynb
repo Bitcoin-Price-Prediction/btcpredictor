{
 "cells": [
  {
   "cell_type": "markdown",
   "metadata": {},
   "source": [
    "# Table of Contents\n",
    "\n",
    "- Real Time Trading Signals\n",
    "    - Imports / Set-Up\n",
    "    - Technical Analysis - Exponential Moving Average (EMA) & Ichimoku Cloud\n",
    "    - Generate Trading Signals Using EMA Crossover Strategy\n",
    "    - Generate Trading Signals Using Ichimoku Cloud\n",
    "    - Gauge Chart\n",
    "    \n",
    "- Machine Learning Model\n",
    "    - Imports / Documentation\n",
    "    - Example Usage\n",
    "    \n",
    "- Dashboard\n",
    "    - Imports\n",
    "    - Build Dashboard"
   ]
  },
  {
   "cell_type": "markdown",
   "metadata": {},
   "source": [
    "# Real Time Trading Signals"
   ]
  },
  {
   "cell_type": "markdown",
   "metadata": {},
   "source": [
    "## Imports / Set-Up"
   ]
  },
  {
   "cell_type": "code",
   "execution_count": null,
   "metadata": {},
   "outputs": [],
   "source": [
    "import datastore.datastore as datastore\n",
    "from datetime import datetime, date, time, timedelta\n",
    "import time\n",
    "import ta\n",
    "import numpy as np \n",
    "import pandas as pd\n",
    "import matplotlib.pyplot as plt\n",
    "import seaborn as sns\n",
    "import warnings\n",
    "import plotly.io as pio\n",
    "import plotly.graph_objects as go\n",
    "warnings.filterwarnings('ignore')\n",
    "%matplotlib inline"
   ]
  },
  {
   "cell_type": "code",
   "execution_count": null,
   "metadata": {},
   "outputs": [],
   "source": [
    "# Keep `realtime_prices` on so there's no missing data\n",
    "d = datastore.DataStore(None, realtime_prices=True)\n",
    "\n",
    "# The cache needs a bit of time to warm up\n",
    "time.sleep(60 - datetime.now().second)"
   ]
  },
  {
   "cell_type": "markdown",
   "metadata": {},
   "source": [
    "## Technical Analysis - Exponential Moving Average (EMA) & Ichimoku Cloud"
   ]
  },
  {
   "cell_type": "code",
   "execution_count": null,
   "metadata": {},
   "outputs": [],
   "source": [
    "def countX(lst, x): \n",
    "    \"\"\"\n",
    "    Counts the number of times 'x' appeared in the list lst\n",
    "    \"\"\"\n",
    "    return lst.count(x)"
   ]
  },
  {
   "cell_type": "code",
   "execution_count": null,
   "metadata": {},
   "outputs": [],
   "source": [
    "def fill_trends(df):\n",
    "    \"\"\"\n",
    "    Computes the various indicators using the closing price and updates the dataframe \n",
    "    with new columns of these indicators\n",
    "    \n",
    "    Returns:\n",
    "    --------\n",
    "    Dataframe with indicators added as new columns\n",
    "    \"\"\"\n",
    "    # exponential moving averages of various timeperiods\n",
    "    df['ema_5'] = ta.trend.EMAIndicator(close = df['close'], n = 5).ema_indicator()\n",
    "    df['ema_13'] = ta.trend.EMAIndicator(close = df['close'], n = 13).ema_indicator()\n",
    "    df['ema_21'] = ta.trend.EMAIndicator(close = df['close'], n = 21).ema_indicator()\n",
    "    df['ema_34'] = ta.trend.EMAIndicator(close = df['close'], n = 34).ema_indicator()\n",
    "    df['ema_55'] = ta.trend.EMAIndicator(close = df['close'], n = 55).ema_indicator()\n",
    "    df['ema_100'] = ta.trend.EMAIndicator(close = df['close'], n = 100).ema_indicator()\n",
    "    df['ema_200'] = ta.trend.EMAIndicator(close = df['close'], n = 200).ema_indicator()\n",
    "\n",
    "    # ichimoku cloud\n",
    "    ichi_ind = ta.trend.IchimokuIndicator(high = df['high'], low = df['low'],n1=9, n2=26, n3=52)\n",
    "    df['ichi_lead_a'] = ichi_ind.ichimoku_a()\n",
    "    df['ichi_lead_b'] = ichi_ind.ichimoku_b()\n",
    "    df['ichi_base'] = ichi_ind.ichimoku_base_line()\n",
    "    df['ichi_conver'] = ichi_ind.ichimoku_conversion_line()\n",
    "    df['ichi_lag'] = df['close'].shift(-26)\n",
    "    \n",
    "    return df.fillna(0.0)"
   ]
  },
  {
   "cell_type": "markdown",
   "metadata": {},
   "source": [
    "## Generate Trading Signals Using EMA Crossover Strategy"
   ]
  },
  {
   "cell_type": "code",
   "execution_count": null,
   "metadata": {},
   "outputs": [],
   "source": [
    "def ma_crossover(df, close, slow, fast):\n",
    "    \"\"\"\n",
    "    Computes the position to take at each point in time \n",
    "    based on the moving average crossover strategy for various range of time periods\n",
    "    \n",
    "    If the slower moving average rises above the faster moving average, signal is 1.\n",
    "    Else is 0\n",
    "    \n",
    "    The position take into consideration the signal given.\n",
    "    Position: Buy if 1 or Sell if -1\n",
    "    \n",
    "    Returns dataframe df with signal and position\n",
    "    \"\"\"\n",
    "    df['close'] = close\n",
    "    df['slow'] = slow\n",
    "    df['fast'] = fast\n",
    "    df['signal'] = 0.0\n",
    "    df['signal'] = np.where(slow > fast, 1.0, 0.0)\n",
    "    # position is the difference of the signals. Buy is 1 and Sell is -1.\n",
    "    df['position'] = df['signal'].diff()\n",
    "    return df"
   ]
  },
  {
   "cell_type": "code",
   "execution_count": null,
   "metadata": {},
   "outputs": [],
   "source": [
    "def gauge(avg_pos):\n",
    "    \"\"\"\n",
    "    Transforms the average position (int) into the respective action (string) \n",
    "    of strong buy, buy, neutral, sell or strong sell\n",
    "    \"\"\"\n",
    "    if 0.6 <= avg_pos <= 1.0:\n",
    "        return 'Strong Buy'\n",
    "    elif 0.2 <= avg_pos <0.6:\n",
    "        return 'Buy'\n",
    "    elif -0.2 <=avg_pos< 0.2:\n",
    "        return 'Neutral'\n",
    "    elif -0.6 <= avg_pos < -0.2:\n",
    "        return 'Sell'\n",
    "    elif -1.0 <= avg_pos < -0.6:\n",
    "        return 'Strong Sell'"
   ]
  },
  {
   "cell_type": "code",
   "execution_count": null,
   "metadata": {},
   "outputs": [],
   "source": [
    "def ema_strategy(data):\n",
    "    \"\"\"\n",
    "    Computes the action given by 10 different exponential moving average-based trading strategies\n",
    "    Returns:\n",
    "        a list of the actions each ema strategy suggests\n",
    "    \"\"\"\n",
    "    ema_5_200 = data['timestamp'].to_frame()\n",
    "    ma_crossover(ema_5_200, data['close'], data['ema_5'], data['ema_200'])\n",
    "\n",
    "\n",
    "    ema_13_100 = data['timestamp'].to_frame()\n",
    "    ma_crossover(ema_13_100, data['close'], data['ema_13'], data['ema_100'])\n",
    "\n",
    "    ema_13_200 = data['timestamp'].to_frame()\n",
    "    ma_crossover(ema_13_200, data['close'], data['ema_13'], data['ema_200'])\n",
    "\n",
    "\n",
    "    ema_21_100 = data['timestamp'].to_frame()\n",
    "    ma_crossover(ema_21_100, data['close'], data['ema_21'], data['ema_100'])\n",
    "\n",
    "    ema_21_200 = data['timestamp'].to_frame()\n",
    "    ma_crossover(ema_21_200, data['close'], data['ema_21'], data['ema_200'])\n",
    "\n",
    "    ema_34_55 = data['timestamp'].to_frame()\n",
    "    ma_crossover(ema_34_55, data['close'], data['ema_34'], data['ema_55'])\n",
    "\n",
    "    ema_34_100 = data['timestamp'].to_frame()\n",
    "    ma_crossover(ema_34_100, data['close'], data['ema_34'], data['ema_100'])\n",
    "\n",
    "    ema_34_200 = data['timestamp'].to_frame()\n",
    "    ma_crossover(ema_34_200, data['close'], data['ema_34'], data['ema_200'])\n",
    "\n",
    "    ema_55_100 = data['timestamp'].to_frame()\n",
    "    ma_crossover(ema_55_100, data['close'], data['ema_55'], data['ema_100'])\n",
    "\n",
    "    ema_55_200 = data['timestamp'].to_frame()\n",
    "    ma_crossover(ema_55_200, data['close'], data['ema_55'], data['ema_200'])\n",
    "    \n",
    "    ema_positions = [(ema_5_200.iloc[-1,-1]),  \n",
    "                     (ema_13_100.iloc[-1,-1]), (ema_13_200.iloc[-1,-1]),  \n",
    "                     (ema_21_100.iloc[-1,-1]), (ema_21_200.iloc[-1,-1]),  \n",
    "                     (ema_34_55.iloc[-1,-1]), (ema_34_100.iloc[-1,-1]), (ema_34_200.iloc[-1,-1]),  \n",
    "                     (ema_55_100.iloc[-1,-1]), (ema_55_200.iloc[-1,-1])]\n",
    "    \n",
    "    return ema_positions"
   ]
  },
  {
   "cell_type": "markdown",
   "metadata": {},
   "source": [
    "## Generate Trading Signals Using Ichimoku Cloud"
   ]
  },
  {
   "cell_type": "code",
   "execution_count": null,
   "metadata": {},
   "outputs": [],
   "source": [
    "def ichimoku_strategy(data):\n",
    "    \"\"\"\n",
    "    Computes the action given by two Ichimoku Cloud-based trading strategies\n",
    "    Returns:\n",
    "        a list of the actions each of the Ichimoku strategies suggests \n",
    "    \"\"\"\n",
    "    df = data['timestamp'].to_frame()\n",
    "    df['close'] = data['close']\n",
    "    df['conver_base_signal'] = 0.0\n",
    "    df['price_base_signal'] = 0.0\n",
    "    for i in range(len(df)):\n",
    "        # Conversion-Base Signal\n",
    "        # If the price is above the green cloud (leading span a > leading span b) and conversion span > base span,\n",
    "        # signal = 1, bullish\n",
    "        if ((data['close'][i] > data['ichi_lead_a'][i])\n",
    "            and (data['ichi_lead_a'][i] > data['ichi_lead_b'][i])\n",
    "            and (data['ichi_conver'][i] > data['ichi_base'][i])):\n",
    "                df.iloc[i, -2] = 1.0\n",
    "        # If the price is below the red cloud (leading span a < leading span b) and conversion span < base span,\n",
    "        # signal = -1, bearish\n",
    "        elif ((data['close'][i] < data['ichi_lead_a'][i])\n",
    "            and (data['ichi_lead_a'][i] < data['ichi_lead_b'][i])\n",
    "            and (data['ichi_conver'][i] < data['ichi_base'][i])):\n",
    "                df.iloc[i, -2] = -1.0\n",
    "        \n",
    "        # Price-Base Signal\n",
    "        # If the price is above the green cloud (leading span a > leading span b) and price > base span,\n",
    "        # signal = 1, bullish\n",
    "        elif ((data['close'][i] > data['ichi_lead_a'][i])\n",
    "            and (data['ichi_lead_a'][i] > data['ichi_lead_b'][i])\n",
    "            and (data['close'][i] > data['ichi_base'][i])):\n",
    "                df.iloc[i, -1] = 1.0\n",
    "        # If the price is below the red cloud (leading span a < leading span b) and price < base span,\n",
    "        # signal = -1, bearish\n",
    "        elif ((data['close'][i] < data['ichi_lead_a'][i])\n",
    "            and (data['ichi_lead_a'][i] < data['ichi_lead_b'][i])\n",
    "            and (data['close'][i] < data['ichi_base'][i])):\n",
    "                df.iloc[i, -1] = -1.0\n",
    "    return df.iloc[-1,-2:]"
   ]
  },
  {
   "cell_type": "markdown",
   "metadata": {},
   "source": [
    "## Gauge Chart"
   ]
  },
  {
   "cell_type": "code",
   "execution_count": null,
   "metadata": {},
   "outputs": [],
   "source": [
    "chart_colors = {\n",
    "    \"values\": [50, 10, 10, 10, 10, 10],\n",
    "    \"labels\": [\" \", \"STRONG SELL\", \"SELL\", \"NEUTRAL\", \"BUY\", \"STRONG BUY\"],\n",
    "    \"marker\": {\n",
    "        'colors': [\n",
    "            'rgb(255, 255, 255)',\n",
    "            'rgb(255,0,0)',\n",
    "            'rgb(255,123,138)',\n",
    "            'rgb(209,211,220)',\n",
    "            'rgb(84,189,254)',\n",
    "            'rgb(0,140,251)'\n",
    "        ],\n",
    "        \"line\": {\n",
    "            \"width\": 0\n",
    "        }\n",
    "    },\n",
    "    \"pull\":0.05,\n",
    "    \"domain\": {'x': [0,1], 'y': [0,1]},\n",
    "    \"name\": \"Gauge\",\n",
    "    \"hole\": .85,\n",
    "    \"type\": \"pie\",\n",
    "    \"direction\": \"clockwise\",\n",
    "    \"rotation\": 90,\n",
    "    \"showlegend\": False,\n",
    "    \"textinfo\": \"none\",\n",
    "    \"textposition\": \"inside\",\n",
    "    \"hoverinfo\": \"none\",\n",
    "}\n",
    "\n",
    "chart_labels = {\n",
    "    \"values\": [50, 10, 10, 10, 10, 10],\n",
    "    \"labels\": [\" \", \"STRONG SELL\", \"SELL\", \"NEUTRAL\", \"BUY\", \"STRONG BUY\"],\n",
    "    \"marker\": {\n",
    "        'colors': [\n",
    "            'rgb(255, 255, 255)',\n",
    "            'rgb(255, 255, 255)',\n",
    "            'rgb(255, 255, 255)',\n",
    "            'rgb(255, 255, 255)',\n",
    "            'rgb(255, 255, 255)',\n",
    "            'rgb(255, 255, 255)'\n",
    "        ],\n",
    "        \"line\": {\n",
    "            'color': 'rgb(255, 255, 255)',\n",
    "            \"width\": 4\n",
    "        }\n",
    "    },\n",
    "    \"domain\": {'x': [0,1], 'y': [0,1]},\n",
    "    \"name\": \"Gauge\",\n",
    "    \"hole\": .90,\n",
    "    \"type\": \"pie\",\n",
    "    \"direction\": \"clockwise\",\n",
    "    \"rotation\": 90,\n",
    "    \"showlegend\": False,\n",
    "    \"textinfo\": \"label\",\n",
    "    \"textposition\": \"inside\",\n",
    "    \"hoverinfo\": \"none\",\n",
    "}\n",
    "\n",
    "example_layout = {\n",
    "    'xaxis': {\n",
    "        'showticklabels': False,\n",
    "        'showgrid': False,\n",
    "        'zeroline': False,\n",
    "    },\n",
    "    'yaxis': {\n",
    "        'showticklabels': False,\n",
    "        'showgrid': False,\n",
    "        'zeroline': False,\n",
    "    },\n",
    "    'font': {\n",
    "        'family':'Anaheim',\n",
    "        'size':20\n",
    "    },\n",
    "    'width':925,\n",
    "    'height':925,\n",
    "    'margin':{'l':0,\n",
    "              'r':0,\n",
    "              't':0,\n",
    "              'b':0,\n",
    "             },\n",
    "}\n",
    "\n",
    "dict_of_fig = dict({\n",
    "    'data':[chart_colors, chart_labels],\n",
    "    'layout':example_layout\n",
    "})\n",
    "\n",
    "example_fig = go.Figure(dict_of_fig)"
   ]
  },
  {
   "cell_type": "code",
   "execution_count": null,
   "metadata": {},
   "outputs": [],
   "source": [
    "example_fig.show()"
   ]
  },
  {
   "cell_type": "markdown",
   "metadata": {},
   "source": [
    "# Machine Learning Model"
   ]
  },
  {
   "cell_type": "markdown",
   "metadata": {},
   "source": [
    "## Imports / Docs"
   ]
  },
  {
   "cell_type": "code",
   "execution_count": null,
   "metadata": {},
   "outputs": [],
   "source": [
    "import models.oracle as oracle"
   ]
  },
  {
   "cell_type": "code",
   "execution_count": null,
   "metadata": {},
   "outputs": [],
   "source": [
    "oracle.Oracle?"
   ]
  },
  {
   "cell_type": "code",
   "execution_count": null,
   "metadata": {},
   "outputs": [],
   "source": [
    "oracle.Oracle.accuracy?"
   ]
  },
  {
   "cell_type": "code",
   "execution_count": null,
   "metadata": {},
   "outputs": [],
   "source": [
    "oracle.Oracle.accuracy_since_deployment?"
   ]
  },
  {
   "cell_type": "code",
   "execution_count": null,
   "metadata": {},
   "outputs": [],
   "source": [
    "oracle.Oracle.smape?"
   ]
  },
  {
   "cell_type": "code",
   "execution_count": null,
   "metadata": {},
   "outputs": [],
   "source": [
    "oracle.Oracle.smape_since_deployment?"
   ]
  },
  {
   "cell_type": "code",
   "execution_count": null,
   "metadata": {},
   "outputs": [],
   "source": [
    "oracle.Oracle.noise?"
   ]
  },
  {
   "cell_type": "code",
   "execution_count": null,
   "metadata": {},
   "outputs": [],
   "source": [
    "oracle.Oracle.noise_since_deployment?"
   ]
  },
  {
   "cell_type": "code",
   "execution_count": null,
   "metadata": {},
   "outputs": [],
   "source": [
    "oracle.Oracle.tweets?"
   ]
  },
  {
   "cell_type": "code",
   "execution_count": null,
   "metadata": {},
   "outputs": [],
   "source": [
    "oracle.Oracle.features?"
   ]
  },
  {
   "cell_type": "code",
   "execution_count": null,
   "metadata": {},
   "outputs": [],
   "source": [
    "oracle.Oracle.predict?"
   ]
  },
  {
   "cell_type": "code",
   "execution_count": null,
   "metadata": {},
   "outputs": [],
   "source": [
    "oracle.Oracle.predict_pct?"
   ]
  },
  {
   "cell_type": "code",
   "execution_count": null,
   "metadata": {},
   "outputs": [],
   "source": [
    "oracle.Oracle.predictions_so_far?"
   ]
  },
  {
   "cell_type": "code",
   "execution_count": null,
   "metadata": {},
   "outputs": [],
   "source": [
    "oracle.Oracle.history?"
   ]
  },
  {
   "cell_type": "code",
   "execution_count": null,
   "metadata": {},
   "outputs": [],
   "source": [
    "oracle.Oracle.has_model?"
   ]
  },
  {
   "cell_type": "code",
   "execution_count": null,
   "metadata": {},
   "outputs": [],
   "source": [
    "oracle.Oracle.run?"
   ]
  },
  {
   "cell_type": "code",
   "execution_count": null,
   "metadata": {},
   "outputs": [],
   "source": [
    "oracle.Oracle.stop?"
   ]
  },
  {
   "cell_type": "markdown",
   "metadata": {},
   "source": [
    "## Example Usage"
   ]
  },
  {
   "cell_type": "code",
   "execution_count": null,
   "metadata": {
    "scrolled": true
   },
   "outputs": [],
   "source": [
    "import plotly.graph_objects as go\n",
    "\n",
    "# Remember that data such as the number of likes or retweets \n",
    "# are NOT updated as time goes on. With that in mind, any\n",
    "# subset of the following features are recommended when using\n",
    "# the model.\n",
    "twitter_features = [ 'num_tweets', 'subjectivity_sum', 'polarity_sum', 'subjectivity_avg', 'polarity_avg', 'tone_most_common' ]\n",
    "\n",
    "predictor = oracle.Oracle(days_for_training=1, twitter_features=twitter_features)\n",
    "fig = go.FigureWidget(layout=go.Layout(\n",
    "        title=go.layout.Title(text=\"Live BTC Trading Prices\")\n",
    "))\n",
    "fig.add_scatter(name='actual')\n",
    "fig.add_scatter(name='prediction')\n",
    "predictor.run(verbose=True, fig=fig)\n",
    "fig"
   ]
  },
  {
   "cell_type": "code",
   "execution_count": null,
   "metadata": {},
   "outputs": [],
   "source": [
    "# What are the latest bitcoin tweets?\n",
    "predictor.tweets()"
   ]
  },
  {
   "cell_type": "code",
   "execution_count": null,
   "metadata": {},
   "outputs": [],
   "source": [
    "# This returns the feature matrix being used at the current minute\n",
    "predictor.features()"
   ]
  },
  {
   "cell_type": "code",
   "execution_count": null,
   "metadata": {},
   "outputs": [],
   "source": [
    "# This returns True if a model has been found\n",
    "predictor.has_model()"
   ]
  },
  {
   "cell_type": "code",
   "execution_count": null,
   "metadata": {},
   "outputs": [],
   "source": [
    "# This returns the model's price forecast for the next minute\n",
    "# If no model exists, this returns None\n",
    "predictor.predict()"
   ]
  },
  {
   "cell_type": "code",
   "execution_count": null,
   "metadata": {},
   "outputs": [],
   "source": [
    "# This returns the model's price percent change forecast for the next minute\n",
    "# If no model exists, this returns None\n",
    "print(\"Predicted percent change:\", predictor.predict_pct(), \"%\")"
   ]
  },
  {
   "cell_type": "code",
   "execution_count": null,
   "metadata": {},
   "outputs": [],
   "source": [
    "# This returns a dataframe of the model's predictions over the past `days_for_training` days\n",
    "# If no model exists, this returns None\n",
    "data = predictor.history()\n",
    "data"
   ]
  },
  {
   "cell_type": "code",
   "execution_count": null,
   "metadata": {},
   "outputs": [],
   "source": [
    "# This will plot predictions and actual prices on the same graph\n",
    "import plotly.express as px\n",
    "plot = px.line(data, x=\"time\", y=['actual', 'prediction'])\n",
    "plot.show()"
   ]
  },
  {
   "cell_type": "code",
   "execution_count": null,
   "metadata": {},
   "outputs": [],
   "source": [
    "# This will compute metrics over the past `days_for_training` days\n",
    "print(\"Accuracy:\\t\\t\\t\", predictor.accuracy(step=15))\n",
    "print(\"SMAPE:\\t\\t\\t\\t\" , predictor.smape(), \"%\")\n",
    "print(\"Noise:\\t\\t\\t\\t\" , predictor.noise())"
   ]
  },
  {
   "cell_type": "code",
   "execution_count": null,
   "metadata": {},
   "outputs": [],
   "source": [
    "# This will compute metrics for the past 2 hours (120 minutes) over the past `days_for_training` days\n",
    "print(\"Accuracy:\\t\\t\\t\", predictor.accuracy(step=15, offset=120))\n",
    "print(\"SMAPE:\\t\\t\\t\\t\" , predictor.smape(offset=120), \"%\")\n",
    "print(\"Noise:\\t\\t\\t\\t\" , predictor.noise(offset=120))"
   ]
  },
  {
   "cell_type": "code",
   "execution_count": null,
   "metadata": {},
   "outputs": [],
   "source": [
    "# Run this once a few predictions have been made!\n",
    "predictor.predictions_so_far()"
   ]
  },
  {
   "cell_type": "code",
   "execution_count": null,
   "metadata": {},
   "outputs": [],
   "source": [
    "# This will compute metrics using all predictions made so far\n",
    "# NOTE: metrics will be unreliable if there haven't been many predictions\n",
    "print(\"Accuracy:\\t\\t\\t\", predictor.accuracy_since_deployment(step=5))\n",
    "print(\"SMAPE:\\t\\t\\t\\t\" , predictor.smape_since_deployment(), \"%\")\n",
    "print(\"Noise:\\t\\t\\t\\t\" , predictor.noise_since_deployment())"
   ]
  },
  {
   "cell_type": "code",
   "execution_count": null,
   "metadata": {},
   "outputs": [],
   "source": [
    "# This will compute metrics for the past 30 minutes using the predictions made so far\n",
    "# NOTE: metrics will be unreliable if there haven't been many predictions\n",
    "print(\"Accuracy:\\t\\t\\t\", predictor.accuracy_since_deployment(step=5, offset=30))\n",
    "print(\"SMAPE:\\t\\t\\t\\t\" , predictor.smape_since_deployment(offset=30), \"%\")\n",
    "print(\"Noise:\\t\\t\\t\\t\" , predictor.noise_since_deployment(offset=30))"
   ]
  },
  {
   "cell_type": "code",
   "execution_count": null,
   "metadata": {
    "scrolled": false
   },
   "outputs": [],
   "source": [
    "predictor.stop(wait=False)"
   ]
  },
  {
   "cell_type": "markdown",
   "metadata": {},
   "source": [
    "# Dashboard"
   ]
  },
  {
   "cell_type": "markdown",
   "metadata": {},
   "source": [
    "## Imports"
   ]
  },
  {
   "cell_type": "code",
   "execution_count": null,
   "metadata": {},
   "outputs": [],
   "source": [
    "#JupyterDash imports\n",
    "import plotly.express as px\n",
    "from jupyter_dash import JupyterDash\n",
    "import dash_core_components as dcc\n",
    "import dash_html_components as html\n",
    "import dash\n",
    "import dash_bootstrap_components as dbc\n",
    "from dash.dependencies import Input, Output, State\n",
    "import plotly.graph_objects as go\n",
    "from numpy import radians, cos, sin"
   ]
  },
  {
   "cell_type": "markdown",
   "metadata": {},
   "source": [
    "## Build Dashboard"
   ]
  },
  {
   "cell_type": "code",
   "execution_count": null,
   "metadata": {},
   "outputs": [],
   "source": [
    "#Build App\n",
    "external_stylesheets = ['https://codepen.io/chriddyp/pen/bWLwgP.css']                      \n",
    "colors = {\"background\": 'rgb(46, 60, 88)','text': '#fafafa'}\n",
    "app = JupyterDash(__name__,external_stylesheets=[dbc.themes.BOOTSTRAP])\n",
    "\n",
    "#Dashboard Design\n",
    "\n",
    "#Row 1: BTC Graph\n",
    "row_1 = [html.H2(\"Bitcoin Price Forecasts\"),\n",
    "         dcc.Graph(id='btc-graph'),\n",
    "         dcc.Interval(id = 'btc-update',\n",
    "                      interval = 30 * 1000, #Update graph every 30 seconds (in milliseconds)\n",
    "                      n_intervals = 0,\n",
    "                      max_intervals = -1\n",
    "                    )\n",
    "]\n",
    "\n",
    "\n",
    "#Row 2: Metrics, Trading Signals, and Twitter Sentiment Analysis\n",
    "# Metrics\n",
    "column_1 = [\n",
    "    #Past 5 Hours\n",
    "    html.H2(\"Metrics: Past 5 Hours\"),\n",
    "    html.H3(id='accuracy-recent',style={'backgroundColor':'white'}),\n",
    "    html.H3(id='smape-recent',style={'backgroundColor':'white'}),\n",
    "    html.H3(id='noise-recent',style={'backgroundColor':'white'}),\n",
    "    #Past Day\n",
    "    html.H2('Metrics: Past Day', style={'size': 50}),\n",
    "    html.H3(id='accuracy-training',style={'backgroundColor':'white'}),\n",
    "    html.H3(id='smape-training',style={'backgroundColor':'white'}),\n",
    "    html.H3(id='noise-training',style={'backgroundColor':'white'}),\n",
    "    #Predicted Percent Change\n",
    "    dcc.Graph(id='percent-change'),\n",
    "    dcc.Interval(id = 'metrics-update',\n",
    "                 interval = 30 * 1000, #Update graph every 30 seconds (in milliseconds)\n",
    "                 n_intervals = 0,\n",
    "                 max_intervals = -1\n",
    "                ),\n",
    "]\n",
    "\n",
    "# Trading Signals\n",
    "column_2 = [\n",
    "    html.H2(\"Trading Signals\"),\n",
    "    dcc.Graph(id='trading-gauge'),\n",
    "    dcc.Interval(id = 'ts-update',\n",
    "                 interval = 30 * 1000, #Update graph every 30 seconds (in milliseconds)\n",
    "                 n_intervals = 0,\n",
    "                 max_intervals = -1\n",
    "                ),\n",
    "]\n",
    "\n",
    "# Twitter Sentiment Analysis\n",
    "column_3 = [\n",
    "    html.H2(\"Twitter Sentiment Analysis\"),\n",
    "    dcc.Graph(id='twitter-polarity'),\n",
    "    dcc.Graph(id='twitter-subjectivity'),\n",
    "    dcc.Interval(id = 'twitter-update',\n",
    "                 interval = 30 * 1000, #Update graph every 30 seconds (in milliseconds)\n",
    "                 n_intervals = 0,\n",
    "                 max_intervals = -1\n",
    "                )\n",
    "]\n",
    "\n",
    "body = dbc.Container(\n",
    "    children = [   \n",
    "        html.H1('BTC Predictor',\n",
    "               style={'size': 1000}\n",
    "               ),\n",
    "        html.Hr(),\n",
    "        dbc.Row(\n",
    "            children = [dbc.Col(row_1)],\n",
    "            style = {'padding': '15px'}\n",
    "        ),\n",
    "         dbc.Row(\n",
    "             children = [dbc.Col(column_1,\n",
    "                                 md=3,\n",
    "                                ),\n",
    "                         dbc.Col(column_2,\n",
    "                                 md=3,\n",
    "                                ),\n",
    "                         dbc.Col(column_3,\n",
    "                                )\n",
    "                        ],\n",
    "             style = {'padding': '15px'}\n",
    "        ),\n",
    "    ],\n",
    "    style = {'backgroundColor': colors['background'],\n",
    "             'font':'Anaheim',\n",
    "             'color':colors['text']\n",
    "            },\n",
    "    fluid = True,\n",
    ")\n",
    "\n",
    "# Setting layout for the application\n",
    "app.layout = html.Div([body])"
   ]
  },
  {
   "cell_type": "code",
   "execution_count": null,
   "metadata": {},
   "outputs": [],
   "source": [
    "#Real-Time Results: BTC Graph\n",
    "@app.callback(\n",
    "    Output('btc-graph', 'figure'),\n",
    "    [Input('btc-update', 'n_intervals')]\n",
    ")\n",
    "def btc_updates(n_intervals):\n",
    "    if (predictor.has_model()):\n",
    "        now = datetime.now()\n",
    "        print(\"BTC Graph Updated At:\" + str(now))\n",
    "        \n",
    "        #Prediction history + new predictiom\n",
    "        df = predictor.history(100)\n",
    "        new_time = df['time'].iloc[-1] + timedelta(seconds=60) \n",
    "        new_prediction = predictor.predict()   \n",
    "        new_row = {'time':new_time, 'actual':None, 'prediction':new_prediction}\n",
    "        new_df = df.append(new_row, ignore_index=True)\n",
    "        \n",
    "\n",
    "        #Plot\n",
    "        data1 = go.Scatter(\n",
    "            x=new_df['time'], y=new_df['actual'], name='actual',line=dict(color='blue', width=4)\n",
    "        )\n",
    "        data2 = go.Scatter(\n",
    "            x=new_df['time'], y=new_df['prediction'], name='prediction', line=dict(color='red', width=4)\n",
    "        )\n",
    "        layout_btc = {\n",
    "            'font': {\n",
    "                'family':'Anaheim',\n",
    "                'size':30,\n",
    "                'color': colors['background']\n",
    "            }\n",
    "        }\n",
    "        myfig = {'data' : [data1,data2],\n",
    "                'layout': layout_btc}\n",
    "        return myfig"
   ]
  },
  {
   "cell_type": "code",
   "execution_count": null,
   "metadata": {},
   "outputs": [],
   "source": [
    "#Real-Time Results: Past 5 Hours Metrics\n",
    "# Accuracy\n",
    "@app.callback(\n",
    "    Output('accuracy-recent', 'children'),\n",
    "    [Input('metrics-update', 'n_intervals')]\n",
    ")\n",
    "def accuracy_recent_updates(n_intervals):\n",
    "    accuracy_recent = predictor.accuracy(offset=300, step=15)\n",
    "    style = {'padding': '5px', \n",
    "             'fontSize': '30px', \n",
    "             'color': colors['background'],\n",
    "             }\n",
    "    return html.Span('Accuracy: {0:.2f}'.format(accuracy_recent), style=style)\n",
    "\n",
    "\n",
    "# SMAPE\n",
    "@app.callback(\n",
    "    Output('smape-recent', 'children'),\n",
    "    [Input('metrics-update', 'n_intervals')]\n",
    ")\n",
    "def smape_recent_updates(n_intervals):\n",
    "    smape_recent = predictor.smape(offset=300)\n",
    "    style = {'padding': '5px', \n",
    "             'fontSize': '30px', \n",
    "             'color': colors['background'],\n",
    "             }\n",
    "    return html.Span('SMAPE: {0:.2f}'.format(smape_recent), style=style)\n",
    "\n",
    "\n",
    "# Noise\n",
    "@app.callback(\n",
    "    Output('noise-recent', 'children'),\n",
    "    [Input('metrics-update', 'n_intervals')]\n",
    ")\n",
    "def noise_recent_updates(n_intervals):\n",
    "    noise_recent = predictor.noise(offset=300)\n",
    "    style = {'padding': '5px', \n",
    "             'fontSize': '30px', \n",
    "             'color': colors['background'],\n",
    "             }\n",
    "    return html.Span('Noise: {0:.2f}'.format(noise_recent), style=style)"
   ]
  },
  {
   "cell_type": "code",
   "execution_count": null,
   "metadata": {},
   "outputs": [],
   "source": [
    "#Real-Time Results: Past Day Metrics\n",
    "# Accuracy\n",
    "@app.callback(\n",
    "    Output('accuracy-training', 'children'),\n",
    "    [Input('metrics-update', 'n_intervals')]\n",
    ")\n",
    "def accuracy_training_updates(n_intervals):\n",
    "    accuracy_training = predictor.accuracy(step=15)\n",
    "    style = {'padding': '5px', \n",
    "             'fontSize': '30px', \n",
    "             'color': colors['background'],\n",
    "             }\n",
    "    return html.Span('Accuracy: {0:.2f}'.format(accuracy_training), style=style)\n",
    "\n",
    "\n",
    "# SMAPE\n",
    "@app.callback(\n",
    "    Output('smape-training', 'children'),\n",
    "    [Input('metrics-update', 'n_intervals')]\n",
    ")\n",
    "def smape_training_updates(n_intervals):\n",
    "    smape_training = predictor.smape()\n",
    "    style = {'padding': '5px', \n",
    "             'fontSize': '30px', \n",
    "             'color': colors['background'],\n",
    "             }\n",
    "    return html.Span('SMAPE: {0:.2f}'.format(smape_training), style=style)\n",
    "\n",
    "\n",
    "# Noise\n",
    "@app.callback(\n",
    "    Output('noise-training', 'children'),\n",
    "    [Input('metrics-update', 'n_intervals')]\n",
    ")\n",
    "def noise_training_updates(n_intervals):\n",
    "    noise_training = predictor.noise()\n",
    "    style = {'padding': '5px', \n",
    "             'fontSize': '30px', \n",
    "             'color': colors['background'],\n",
    "             }\n",
    "    return html.Span('Noise: {0:.2f}'.format(noise_training), style=style)"
   ]
  },
  {
   "cell_type": "code",
   "execution_count": null,
   "metadata": {},
   "outputs": [],
   "source": [
    "# Percent Change\n",
    "@app.callback(\n",
    "    Output('percent-change', 'figure'),\n",
    "    [Input('metrics-update', 'n_intervals')]\n",
    ")\n",
    "def percent_change_updates(n_intervals):\n",
    "    pct_fig = go.Figure(go.Indicator(\n",
    "        mode = \"number+delta\",\n",
    "        value = predictor.predict(),\n",
    "        number = {'prefix': \"$\", \n",
    "                  'valueformat':\".00f\"\n",
    "                 },\n",
    "        delta = {'position': \"top\", \n",
    "                 'reference': predictor.history(1)['actual'].values[0], \n",
    "                 'relative':False,\n",
    "                 'valueformat':\"$,.2f\"\n",
    "                },\n",
    "        title = {\"text\": \"Forecast\"},\n",
    "        ))\n",
    "    pct_fig.update_layout(paper_bgcolor = \"white\")\n",
    "    return pct_fig"
   ]
  },
  {
   "cell_type": "code",
   "execution_count": null,
   "metadata": {},
   "outputs": [],
   "source": [
    "#Real-Time Results: Technical Analysis   \n",
    "@app.callback(\n",
    "    Output('trading-gauge', 'figure'),\n",
    "    [Input('ts-update', 'n_intervals')]\n",
    ")\n",
    "def trading_signals_updates(n_intervals):\n",
    "    # Every time this function is called, it returns the current time - `minutes` as a string\n",
    "    get_start_time = lambda minutes: (datetime.now() - timedelta(minutes=minutes)).strftime(\"%Y-%m-%d %H:%M:%S\")\n",
    "    \n",
    "    # Ranges are inclusive, so if you want exactly 200 data points use 199 minutes\n",
    "    data_real_min = d.btcstock.get_by_range(get_start_time(1439), delay=0, verbose=False)\n",
    "    \n",
    "    # Compute the indicators + add them to 'data_real_min' inplace\n",
    "    fill_trends(data_real_min)\n",
    "    \n",
    "    # Combines all 15 trading strategies \n",
    "    actions = np.append(ema_strategy(data_real_min), ichimoku_strategy(data_real_min)).tolist()\n",
    "    \n",
    "    # Counts the number of strategies that signals sell, buy, and neutral\n",
    "    sell_num = countX(actions, x=-1)\n",
    "    buy_num = countX(actions, x=1)\n",
    "    neutral_num = countX(actions, x=0)\n",
    "\n",
    "    # Computes the average trading signal and current gauge of the BTC/USD market\n",
    "    overall_strength = np.mean(actions)\n",
    "    overall_gauge = gauge(overall_strength)\n",
    "    \n",
    "    print(datetime.now().strftime(\"%H:%M:%S\"))\n",
    "    print('Sell: {} strategies'.format(sell_num)) \n",
    "    print('Buy: {} strategies'.format(buy_num)) \n",
    "    print('Neutral: {} strategies'.format(neutral_num))\n",
    "    print('Current Strength: {}'.format(overall_strength))\n",
    "    print('Current Gauge: {}'.format(overall_gauge))\n",
    "    \n",
    "    new_fig = go.Figure(example_fig)\n",
    "    \n",
    "    #Determine arrow's direction based on the current gauge of the BTC/USD market\n",
    "    if (overall_gauge == 'Strong Buy'):\n",
    "        theta = 41\n",
    "        result_text = 'STRONG BUY'\n",
    "        result_color = 'rgb(0,140,251)'\n",
    "    elif (overall_gauge == 'Buy'):\n",
    "        theta = 61\n",
    "        result_text = 'BUY'\n",
    "        result_color = 'rgb(84,189,254)'\n",
    "    elif (overall_gauge == 'Neutral'):\n",
    "        theta = 90\n",
    "        result_text = 'NEUTRAL'\n",
    "        result_color = 'rgb(209,211,220)'\n",
    "    elif (overall_gauge == 'Sell'):\n",
    "        theta = 118\n",
    "        result_text = 'SELL'\n",
    "        result_color = 'rgb(255,123,138)'\n",
    "    elif (overall_gauge == 'Strong Sell'):\n",
    "        theta = 136\n",
    "        result_text = 'STRONG SELL'\n",
    "        result_color = 'rgb(255,0,0)'\n",
    "\n",
    "    r = 0.9\n",
    "    x_head = r * cos(radians(theta))\n",
    "    y_head = r * sin(radians(theta))\n",
    "    \n",
    "    #Add arrow to the gauge chart\n",
    "    new_fig.add_annotation(\n",
    "        ax=0,\n",
    "        ay=0.5,\n",
    "        axref='x',\n",
    "        ayref='y',\n",
    "        x=x_head,\n",
    "        y=y_head,\n",
    "        xref='x',\n",
    "        yref='y',\n",
    "        showarrow=True,\n",
    "        arrowhead=3,\n",
    "        arrowsize=1,\n",
    "        arrowwidth=4,\n",
    "        text=result_text,\n",
    "        font= {\n",
    "            'family':'Anaheim',\n",
    "            'color':result_color,\n",
    "            'size':50\n",
    "        }\n",
    "    )\n",
    "\n",
    "\n",
    "    new_fig.update_layout(\n",
    "        font={'color': colors['text'], 'family': \"Anaheim\", 'size':20},\n",
    "        xaxis={'showgrid': False, 'showticklabels':False, 'range':[-1,1]},\n",
    "        yaxis={'showgrid': False, 'showticklabels':False, 'range':[0,1]},\n",
    "        plot_bgcolor='rgba(0,0,0,0)'\n",
    "        )\n",
    "    return new_fig"
   ]
  },
  {
   "cell_type": "code",
   "execution_count": null,
   "metadata": {},
   "outputs": [],
   "source": [
    "#Real-Time Results: Twitter Sentiment Analysis Graph\n",
    "@app.callback(\n",
    "    Output('twitter-polarity', 'figure'),\n",
    "    [Input('twitter-update', 'n_intervals')]\n",
    ")\n",
    "def twitter_polarity_updates(n_intervals):\n",
    "    if (predictor.has_model()):\n",
    "        #Features\n",
    "        twitter_df = predictor.features().tail(60).reset_index(drop=True)\n",
    "        print(\"Current Twitter Polarity: \" + str(twitter_df.loc[58,'polarity_avg']))\n",
    "        print(\"Previous Twitter Polarity: \" + str(twitter_df.loc[57,'polarity_avg']))\n",
    "\n",
    "        #Plot\n",
    "        pol_fig = go.Figure(go.Indicator(\n",
    "            mode = \"number+delta\",\n",
    "            value = twitter_df.loc[58,'polarity_avg'],\n",
    "            delta = {\"reference\": twitter_df.loc[57,'polarity_avg']\n",
    "                    },\n",
    "            title = {\"text\": \"Average Polarity\"},\n",
    "        ))\n",
    "\n",
    "        pol_fig.add_trace(go.Scatter(\n",
    "            x=twitter_df['date'], \n",
    "            y=twitter_df['polarity_avg'], \n",
    "            ))\n",
    "\n",
    "        pol_fig.update_layout(font = {'family':'Anaheim',\n",
    "                                      'size':30,\n",
    "                                 }\n",
    "                         )\n",
    "        return pol_fig\n",
    "        \n",
    "    \n",
    "    \n",
    "@app.callback(\n",
    "    Output('twitter-subjectivity', 'figure'),\n",
    "    [Input('twitter-update', 'n_intervals')]\n",
    ")\n",
    "def twitter_subjectivity_updates(n_intervals):\n",
    "    if (predictor.has_model()):\n",
    "        #Features\n",
    "        twitter_df = predictor.features().tail(60).reset_index(drop=True)\n",
    "        print(\"Current Twitter Subjectivity: \" + str(twitter_df.loc[58,'subjectivity_avg']))\n",
    "        print(\"Previous Twitter Subjectivity: \" + str(twitter_df.loc[57,'subjectivity_avg']))\n",
    "\n",
    "        #Plot\n",
    "        sub_fig = go.Figure(go.Indicator(\n",
    "            mode = \"number+delta\",\n",
    "            value = twitter_df.loc[58,'subjectivity_avg'],\n",
    "            delta = {\"reference\": twitter_df.loc[57,'subjectivity_avg']\n",
    "                    },\n",
    "            title = {\"text\": \"Average Subjectivity\"},\n",
    "        ))\n",
    "\n",
    "        sub_fig.add_trace(go.Scatter(\n",
    "            x=twitter_df['date'], \n",
    "            y=twitter_df['subjectivity_avg'], \n",
    "            ))\n",
    "\n",
    "        sub_fig.update_layout(font = {'family':'Anaheim',\n",
    "                                      'size':30,\n",
    "                                 }\n",
    "                         )\n",
    "        return sub_fig"
   ]
  },
  {
   "cell_type": "code",
   "execution_count": null,
   "metadata": {},
   "outputs": [],
   "source": [
    "# Run app and display result external in the notebook\n",
    "app.run_server(mode='external')"
   ]
  },
  {
   "cell_type": "code",
   "execution_count": null,
   "metadata": {},
   "outputs": [],
   "source": []
  },
  {
   "cell_type": "code",
   "execution_count": null,
   "metadata": {},
   "outputs": [],
   "source": []
  }
 ],
 "metadata": {
  "kernelspec": {
   "display_name": "Python 3",
   "language": "python",
   "name": "python3"
  },
  "language_info": {
   "codemirror_mode": {
    "name": "ipython",
    "version": 3
   },
   "file_extension": ".py",
   "mimetype": "text/x-python",
   "name": "python",
   "nbconvert_exporter": "python",
   "pygments_lexer": "ipython3",
   "version": "3.7.6"
  }
 },
 "nbformat": 4,
 "nbformat_minor": 4
}
